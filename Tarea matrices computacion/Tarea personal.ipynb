{
 "cells": [
  {
   "cell_type": "code",
   "execution_count": 3,
   "id": "070f475b-7f4c-4396-a79d-4af8b385228d",
   "metadata": {},
   "outputs": [
    {
     "name": "stdout",
     "output_type": "stream",
     "text": [
      "[1 2 3]\n"
     ]
    }
   ],
   "source": [
    "#Matriz unidimensional \n",
    "import numpy as np\n",
    "a=np.array([1,2,3])\n",
    "print(a)"
   ]
  },
  {
   "cell_type": "code",
   "execution_count": 4,
   "id": "5815aa9a-9962-45a0-bc9a-868ceb789b26",
   "metadata": {},
   "outputs": [
    {
     "name": "stdout",
     "output_type": "stream",
     "text": [
      "[[1 2 3]\n",
      " [4 5 6]]\n"
     ]
    }
   ],
   "source": [
    "#Matriz bidimensional\n",
    "b=np.array([(1,2,3),(4,5,6)])\n",
    "print(b)"
   ]
  },
  {
   "cell_type": "code",
   "execution_count": 5,
   "id": "81e2356b-db3a-49b1-8201-256de387b6c1",
   "metadata": {},
   "outputs": [
    {
     "name": "stdout",
     "output_type": "stream",
     "text": [
      "[[1 2 3 4]\n",
      " [5 6 7 8]]\n"
     ]
    }
   ],
   "source": [
    "array=np.array([[1,2,3,4], [5,6,7,8]], dtype=np.int64)\n",
    "print (array)"
   ]
  },
  {
   "cell_type": "code",
   "execution_count": 7,
   "id": "1ba44cda-f49e-424a-b15d-167608d7beae",
   "metadata": {},
   "outputs": [
    {
     "name": "stdout",
     "output_type": "stream",
     "text": [
      "28000\n"
     ]
    }
   ],
   "source": [
    "#Porque usar NumPy\n",
    "#Cantidad de memoria asignda\n",
    "import sys\n",
    "S=range(1000)\n",
    "print (sys.getsizeof(5)*len(S))\n"
   ]
  },
  {
   "cell_type": "code",
   "execution_count": 11,
   "id": "4d2bcf1c-a495-4ad2-986d-668ec099399d",
   "metadata": {},
   "outputs": [
    {
     "name": "stdout",
     "output_type": "stream",
     "text": [
      "4000\n"
     ]
    }
   ],
   "source": [
    "D=np.arange(1000)\n",
    "print(D.size*D.itemsize)"
   ]
  },
  {
   "cell_type": "code",
   "execution_count": 12,
   "id": "7d57eb6e-ae56-490c-a6e2-958f1ba5744c",
   "metadata": {},
   "outputs": [
    {
     "name": "stdout",
     "output_type": "stream",
     "text": [
      "230.21340370178223\n"
     ]
    }
   ],
   "source": [
    "#Velocidad\n",
    "import time\n",
    "\n",
    "SIZE = 1000000\n",
    "\n",
    "L1= range(SIZE)\n",
    "L2= range(SIZE)\n",
    "\n",
    "start= time.time()\n",
    "result=[(x,y) for x,y in zip(L1,L2)] #se usa for\n",
    "print((time.time()-start)*1000) #Velocidad en Listas"
   ]
  },
  {
   "cell_type": "code",
   "execution_count": 14,
   "id": "d871a0d9-7185-42cd-b340-bb5390b27396",
   "metadata": {},
   "outputs": [
    {
     "name": "stdout",
     "output_type": "stream",
     "text": [
      "43.787240982055664\n"
     ]
    }
   ],
   "source": [
    "A1=np.arange(SIZE)\n",
    "A2=np.arange(SIZE)\n",
    "\n",
    "start=time.time()\n",
    "result= A1+A2                   #solo se suma\n",
    "print((time.time()-start)*1000) #Velocidad de Numpy\n"
   ]
  },
  {
   "cell_type": "code",
   "execution_count": 8,
   "id": "4d8195df-8243-44ac-8f8e-d982e5f3010f",
   "metadata": {},
   "outputs": [
    {
     "name": "stdout",
     "output_type": "stream",
     "text": [
      "[[1. 1. 1. 1.]\n",
      " [1. 1. 1. 1.]\n",
      " [1. 1. 1. 1.]]\n"
     ]
    }
   ],
   "source": [
    "# Crear una matriz de unos - 3 filas 4 columnas\n",
    "import numpy as np\n",
    "unos=np.ones((3,4))\n",
    "print(unos)"
   ]
  },
  {
   "cell_type": "code",
   "execution_count": 9,
   "id": "cb4048d2-86b0-464d-8b99-7e3c677a7c1f",
   "metadata": {},
   "outputs": [
    {
     "name": "stdout",
     "output_type": "stream",
     "text": [
      "[[0. 0. 0. 0.]\n",
      " [0. 0. 0. 0.]\n",
      " [0. 0. 0. 0.]]\n"
     ]
    }
   ],
   "source": [
    "# Crear una matriz de ceros - 3 filas 4 columnas\n",
    "import numpy as np\n",
    "ceros = np.zeros((3,4))\n",
    "print (ceros)"
   ]
  },
  {
   "cell_type": "code",
   "execution_count": 10,
   "id": "49949e88-ce5c-4b30-ad34-c19910d74737",
   "metadata": {},
   "outputs": [
    {
     "name": "stdout",
     "output_type": "stream",
     "text": [
      "[[0.25062305 0.32700068]\n",
      " [0.67170592 0.97218665]]\n"
     ]
    }
   ],
   "source": [
    "# Crear una matriz con valores aleatorios\n",
    "import numpy as np\n",
    "aleatorios = np.random.random((2,2))\n",
    "print (aleatorios)"
   ]
  },
  {
   "cell_type": "code",
   "execution_count": 11,
   "id": "afdb0271-db87-4a35-af14-2767fde2c48e",
   "metadata": {},
   "outputs": [
    {
     "name": "stdout",
     "output_type": "stream",
     "text": [
      "[[2.22522868e-306 1.33511562e-306]\n",
      " [2.04712907e-306 8.01089061e-307]\n",
      " [2.11392033e-307 1.69117157e-306]]\n"
     ]
    }
   ],
   "source": [
    "# Crear una matriz vacía\n",
    "import numpy as np\n",
    "vacia = np.empty((3,2))\n",
    "print (vacia)"
   ]
  },
  {
   "cell_type": "code",
   "execution_count": 12,
   "id": "2663a3a5-7f09-413d-8fe9-46841cb103c2",
   "metadata": {},
   "outputs": [
    {
     "name": "stdout",
     "output_type": "stream",
     "text": [
      "[[8 8]\n",
      " [8 8]]\n"
     ]
    }
   ],
   "source": [
    "# Crear una matriz con un solo valor\n",
    "import numpy as np\n",
    "full=np.full((2,2),8)\n",
    "print (full)"
   ]
  },
  {
   "cell_type": "code",
   "execution_count": 14,
   "id": "77992e58-6240-4344-971b-9cf1dee2c068",
   "metadata": {},
   "outputs": [
    {
     "name": "stdout",
     "output_type": "stream",
     "text": [
      "[ 0  5 10 15 20 25]\n"
     ]
    }
   ],
   "source": [
    "# Crear una matriz con valores espaciados uniformemente\n",
    "import numpy as np\n",
    "espaciol = np.arange(0,30,5)\n",
    "print (espaciol)"
   ]
  },
  {
   "cell_type": "code",
   "execution_count": 15,
   "id": "f36fb7b2-2c09-49f1-989d-210b4133dbc5",
   "metadata": {},
   "outputs": [
    {
     "name": "stdout",
     "output_type": "stream",
     "text": [
      "[0.  0.5 1.  1.5 2. ]\n"
     ]
    }
   ],
   "source": [
    "import numpy as np\n",
    "espacio2 = np.linspace(0,2,5)\n",
    "print (espacio2)"
   ]
  },
  {
   "cell_type": "code",
   "execution_count": 16,
   "id": "29b61ac3-d039-40b5-805d-db1b72a29f8c",
   "metadata": {},
   "outputs": [
    {
     "name": "stdout",
     "output_type": "stream",
     "text": [
      "[[1. 0. 0. 0.]\n",
      " [0. 1. 0. 0.]\n",
      " [0. 0. 1. 0.]\n",
      " [0. 0. 0. 1.]]\n",
      "[[1. 0. 0. 0.]\n",
      " [0. 1. 0. 0.]\n",
      " [0. 0. 1. 0.]\n",
      " [0. 0. 0. 1.]]\n"
     ]
    }
   ],
   "source": [
    "# Crear una matriz identidad\n",
    "import numpy as np\n",
    "identidad1 = np.eye(4,4)\n",
    "print (identidad1)\n",
    "\n",
    "identidad2 = np.identity(4)\n",
    "print (identidad2)"
   ]
  },
  {
   "cell_type": "code",
   "execution_count": 17,
   "id": "ff27468e-900f-4a39-83d3-f5d45d594088",
   "metadata": {},
   "outputs": [
    {
     "name": "stdout",
     "output_type": "stream",
     "text": [
      "2\n"
     ]
    }
   ],
   "source": [
    "# Conocer las dimensiones de una matriz\n",
    "import numpy as np\n",
    "\n",
    "a= np.array([(1,2,3),(4,5,6)])\n",
    "print (a.ndim)"
   ]
  },
  {
   "cell_type": "code",
   "execution_count": 18,
   "id": "7504ec56-7210-4d59-a020-66846105e3dc",
   "metadata": {},
   "outputs": [
    {
     "name": "stdout",
     "output_type": "stream",
     "text": [
      "int32\n"
     ]
    }
   ],
   "source": [
    "# Conocer el tipo de los datos\n",
    "print (a.dtype)"
   ]
  },
  {
   "cell_type": "code",
   "execution_count": 19,
   "id": "772da9ef-aa74-4a3c-89ef-ff9e785a9921",
   "metadata": {},
   "outputs": [
    {
     "name": "stdout",
     "output_type": "stream",
     "text": [
      "6\n",
      "(1, 6)\n"
     ]
    }
   ],
   "source": [
    "# Conocer el tamaño y forma de la matriz\n",
    "import numpy as np\n",
    "\n",
    "a= np.array([(1,2,3,4,5,6)])\n",
    "print(a.size)\n",
    "print (a.shape)"
   ]
  },
  {
   "cell_type": "code",
   "execution_count": 20,
   "id": "48e51ed6-4478-40cc-94b0-509d8b30d3c5",
   "metadata": {},
   "outputs": [
    {
     "name": "stdout",
     "output_type": "stream",
     "text": [
      "[[ 8  9 10]\n",
      " [11 12 13]]\n",
      "[[ 8  9]\n",
      " [10 11]\n",
      " [12 13]]\n"
     ]
    }
   ],
   "source": [
    "# Cambio de forma de una matriz\n",
    "import numpy as np\n",
    "\n",
    "a = np.array([(8,9,10),(11,12,13)]) #2 filas X 3 columnas\n",
    "print (a)\n",
    "a=a.reshape(3,2)#3 filas X 2 columnas\n",
    "print (a)"
   ]
  },
  {
   "cell_type": "code",
   "execution_count": 21,
   "id": "fc48fe3d-e428-4e97-97b5-f46de274b617",
   "metadata": {},
   "outputs": [
    {
     "name": "stdout",
     "output_type": "stream",
     "text": [
      "3\n"
     ]
    }
   ],
   "source": [
    "# Extraer un solo valor de la matriz - el valor ubicado en la fila 0 columna 2\n",
    "import numpy as np\n",
    "\n",
    "a=np.array([(1,2,3,4),(3,4,5,6)])\n",
    "print (a[0,2])"
   ]
  },
  {
   "cell_type": "code",
   "execution_count": 22,
   "id": "58ea2774-c749-44b7-800d-8bd61655f508",
   "metadata": {},
   "outputs": [
    {
     "name": "stdout",
     "output_type": "stream",
     "text": [
      "[3 5]\n"
     ]
    }
   ],
   "source": [
    "# Extraer los valores de todas las filas ubicados en la columna 3\n",
    "import numpy as np\n",
    "\n",
    "a=np.array([(1,2,3,4),(3,4,5,6)])\n",
    "print (a[0:,2])"
   ]
  },
  {
   "cell_type": "code",
   "execution_count": 24,
   "id": "6ad4331b-e787-4400-bc00-ea697c80236b",
   "metadata": {},
   "outputs": [
    {
     "name": "stdout",
     "output_type": "stream",
     "text": [
      "2\n",
      "800\n",
      "847\n"
     ]
    }
   ],
   "source": [
    "#Encontrar el mínimo, máximo y la suma\n",
    "import numpy as np\n",
    "\n",
    "a= np.array([2,45,800])\n",
    "print(a.min())\n",
    "print(a.max())\n",
    "print (a.sum())"
   ]
  },
  {
   "cell_type": "code",
   "execution_count": 25,
   "id": "754866a4-1aa9-4ea3-bffc-b1782da617d3",
   "metadata": {},
   "outputs": [
    {
     "name": "stdout",
     "output_type": "stream",
     "text": [
      "[[1.         2.         9.        ]\n",
      " [5.74456265 6.63324958 7.07106781]]\n",
      "27.5121185419565\n"
     ]
    }
   ],
   "source": [
    "# Calcular la raíz cuadrada y la desviación estándar\n",
    "import numpy as np\n",
    "\n",
    "a=np.array([(1,4,81),(33,44,50,)])\n",
    "print(np.sqrt(a))\n",
    "print(np.std(a))"
   ]
  },
  {
   "cell_type": "code",
   "execution_count": 26,
   "id": "5a1e66dc-6a39-4977-a777-57e8e49ad370",
   "metadata": {},
   "outputs": [
    {
     "name": "stdout",
     "output_type": "stream",
     "text": [
      "[[ 2  4  6]\n",
      " [ 6  8 10]]\n",
      "\n",
      "[[0 0 0]\n",
      " [0 0 0]]\n",
      "\n",
      "[[ 1  4  9]\n",
      " [ 9 16 25]]\n",
      "\n",
      "[[1. 1. 1.]\n",
      " [1. 1. 1.]]\n"
     ]
    }
   ],
   "source": [
    "# Calcular la suma, resta, multiplicación y división de dos matrices\n",
    "import numpy as np\n",
    "\n",
    "x= np.array([(1,2,3),(3,4,5)])\n",
    "y= np.array([(1,2,3),(3,4,5)])\n",
    "print (x+y)\n",
    "print ()\n",
    "print(x-y)\n",
    "print ()\n",
    "print(x*y)\n",
    "print ()\n",
    "print(x/y)"
   ]
  },
  {
   "cell_type": "code",
   "execution_count": null,
   "id": "bd0f74ef-1ecb-450f-8a1d-efa81bca4776",
   "metadata": {},
   "outputs": [],
   "source": []
  }
 ],
 "metadata": {
  "kernelspec": {
   "display_name": "Python 3 (ipykernel)",
   "language": "python",
   "name": "python3"
  },
  "language_info": {
   "codemirror_mode": {
    "name": "ipython",
    "version": 3
   },
   "file_extension": ".py",
   "mimetype": "text/x-python",
   "name": "python",
   "nbconvert_exporter": "python",
   "pygments_lexer": "ipython3",
   "version": "3.11.7"
  }
 },
 "nbformat": 4,
 "nbformat_minor": 5
}
